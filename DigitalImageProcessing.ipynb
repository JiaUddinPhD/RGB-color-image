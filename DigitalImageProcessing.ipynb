{
  "nbformat": 4,
  "nbformat_minor": 0,
  "metadata": {
    "colab": {
      "name": "DigitalImageProcessing.ipynb",
      "provenance": []
    },
    "kernelspec": {
      "name": "python3",
      "display_name": "Python 3"
    },
    "language_info": {
      "name": "python"
    }
  },
  "cells": [
    {
      "cell_type": "code",
      "metadata": {
        "id": "72BHwn7GgAYF"
      },
      "source": [
        "# import libraries\n",
        "import cv2\n",
        "import os,glob\n",
        "from os import listdir,makedirs\n",
        "from os.path import isfile,join"
      ],
      "execution_count": null,
      "outputs": []
    },
    {
      "cell_type": "code",
      "metadata": {
        "id": "nAOADZOQgKk-"
      },
      "source": [
        "# give the source folder path\n",
        "path = '/content/drive/MyDrive/source_dir' # Source Folder\n"
      ],
      "execution_count": null,
      "outputs": []
    },
    {
      "cell_type": "code",
      "metadata": {
        "id": "ujBETYCbgQSl"
      },
      "source": [
        "\n",
        "# give the destination folder path\n",
        "dstpath = '/content/drive/MyDrive/des_dir' # Destination Folder\n"
      ],
      "execution_count": null,
      "outputs": []
    },
    {
      "cell_type": "code",
      "metadata": {
        "colab": {
          "base_uri": "https://localhost:8080/"
        },
        "id": "MX90xFXlgSq9",
        "outputId": "3499dad6-d4b2-4f4d-def8-fcecf664a7b5"
      },
      "source": [
        "try:\n",
        "    makedirs(dstpath)\n",
        "except:\n",
        "    print (\"Directory already exist, images will be written in same folder\")\n",
        "# Folder won't used\n",
        "files = list(filter(lambda f: isfile(join(path,f)), listdir(path)))\n",
        "for image in files:\n",
        "    try:\n",
        "        img = cv2.imread(os.path.join(path,image))\n",
        "        gray = cv2.cvtColor(img,cv2.COLOR_BGR2GRAY)\n",
        "        dstPath = join(dstpath,image)\n",
        "        cv2.imwrite(dstPath,gray)\n",
        "    except:\n",
        "        print (\"{} is not converted\".format(image))\n",
        "for fil in glob.glob(\"*.jpg\"):\n",
        "    try:\n",
        "        image = cv2.imread(fil) \n",
        "        gray_image = cv2.cvtColor(os.path.join(path,image), cv2.COLOR_BGR2GRAY) # convert to greyscale\n",
        "        cv2.imwrite(os.path.join(dstpath,fil),gray_image)\n",
        "    except:\n",
        "        print('{} is not converted')\n",
        "        "
      ],
      "execution_count": null,
      "outputs": [
        {
          "output_type": "stream",
          "text": [
            "Directory already exist, images will be written in same folder\n"
          ],
          "name": "stdout"
        }
      ]
    }
  ]
}